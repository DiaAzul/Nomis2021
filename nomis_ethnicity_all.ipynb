{
 "cells": [
  {
   "cell_type": "markdown",
   "source": [
    "# Extract data from NOMIS\r\n",
    "\r\n",
    "This notebook extracts data from the NOMIS API. The notebook is targetted at the following table:\r\n",
    "\r\n",
    "+ NM_608_1 - Ethnicity by LSOA (Lower Super Output Area)\r\n",
    "\r\n",
    "The notebook downloads data by local super output area (listed in nomis_lsoa_codes.csv), for all ethnicity groups and total across rural and urban areas.\r\n",
    "\r\n",
    "The notebook makes the assumption that all LSOA codes are contiguous and can be batch up to reduce the number of API calls.\r\n",
    "\r\n",
    "\r\n",
    "\r\n",
    "Data is exported to the folder \"X_Output\" which needs to be created."
   ],
   "metadata": {}
  },
  {
   "cell_type": "code",
   "execution_count": 36,
   "source": [
    "import math\r\n",
    "import pandas as pd\r\n",
    "\r\n",
    "from tqdm.notebook import tqdm\r\n",
    "from pyjstat import pyjstat\r\n",
    "from typing import List"
   ],
   "outputs": [],
   "metadata": {}
  },
  {
   "cell_type": "markdown",
   "source": [
    "**Set the upper and lower limit for NOMIS LSOA geography codes, number of columns in returned data and max query size**"
   ],
   "metadata": {}
  },
  {
   "cell_type": "code",
   "execution_count": 37,
   "source": [
    "NOMIS_LSOA_MIN = 1249902593\r\n",
    "NOMIS_LSOA_MAX = 1249935436\r\n",
    "NOMIS_COLS_PER_LSOA = 20 # Number of cells of data (columns) returned per LSOA\r\n",
    "NOMIS_MAX_QUERY = 20000  # Maximum number of cells that can be returned by NOMIS API per query (note: actually 25,000 but lower limit here for safety)"
   ],
   "outputs": [],
   "metadata": {}
  },
  {
   "cell_type": "markdown",
   "source": [
    "**Create a Python generator to create ranges of NOMIS geographies**\r\n",
    "\r\n",
    "This generator is used in the main loop to create individual API calls."
   ],
   "metadata": {}
  },
  {
   "cell_type": "code",
   "execution_count": 38,
   "source": [
    "def nomis_code_range(nomis_min: int, nomis_max: int, nomis_step: int) -> str:\r\n",
    "\r\n",
    "    nomis_range = \"\"\r\n",
    "\r\n",
    "    iterations = math.ceil((nomis_max - nomis_min + 1) / nomis_step)\r\n",
    "    for i in range(iterations):\r\n",
    "        nomis_range = str(max(nomis_min, nomis_min + i * nomis_step)) + \"...\" + str(min(nomis_max, nomis_min + (i + 1) * nomis_step - 1))\r\n",
    "        yield nomis_range"
   ],
   "outputs": [],
   "metadata": {}
  },
  {
   "cell_type": "code",
   "execution_count": 39,
   "source": [
    "def nomis_url(table_name: str, geography: str) -> str:\r\n",
    "    # tables:\r\n",
    "    # NM_608_1 - Ethnicity (LSOA)\r\n",
    "\r\n",
    "    url_base = f\"https://www.nomisweb.co.uk/api/v01/dataset/{table_name}.jsonstat.json?\"\r\n",
    "    url_geography_base=\"geography=\"\r\n",
    "    url_date_base=\"date=\"    \r\n",
    "\r\n",
    "    url_params = {}\r\n",
    "    url_params[\"NM_608_1\"] = \"&rural_urban=0&cell=0...18&measures=20100\"\r\n",
    "\r\n",
    "    dates = [\r\n",
    "        \"latest\",\r\n",
    "    ]\r\n",
    "    date_enc = \",\".join(dates)\r\n",
    "\r\n",
    "    url = (\r\n",
    "        url_base\r\n",
    "        + url_geography_base\r\n",
    "        + geography\r\n",
    "        + \"&\"\r\n",
    "        + url_date_base\r\n",
    "        + date_enc\r\n",
    "        + url_params[table_name]\r\n",
    "    )\r\n",
    "\r\n",
    "    return url\r\n"
   ],
   "outputs": [],
   "metadata": {}
  },
  {
   "cell_type": "code",
   "execution_count": 40,
   "source": [
    "def write_list(output_list: List, output_filename: str) -> None:\r\n",
    "    with open(f\"./X_Output/{output_filename}\", \"w\") as textfile:\r\n",
    "        for el in output_list:\r\n",
    "            textfile.write(el + \"\\n\")"
   ],
   "outputs": [],
   "metadata": {}
  },
  {
   "cell_type": "markdown",
   "source": [
    "**Iterate of geographic ranges**"
   ],
   "metadata": {}
  },
  {
   "cell_type": "code",
   "execution_count": 41,
   "source": [
    "first = True\r\n",
    "population_urls = []\r\n",
    "population = pd.DataFrame()\r\n",
    "\r\n",
    "iterations = math.ceil((NOMIS_LSOA_MAX - NOMIS_LSOA_MIN + 1) / math.floor(NOMIS_MAX_QUERY / NOMIS_COLS_PER_LSOA))\r\n",
    "for geography in tqdm(nomis_code_range(NOMIS_LSOA_MIN, NOMIS_LSOA_MAX, math.floor(NOMIS_MAX_QUERY / NOMIS_COLS_PER_LSOA)), total=iterations):\r\n",
    "    url = nomis_url(\"NM_608_1\", geography)\r\n",
    "    dataset = pyjstat.Dataset.read(url)\r\n",
    "\r\n",
    "    df: pd.DataFrame = dataset.write('dataframe')  # type: ignore\r\n",
    "\r\n",
    "    if first:\r\n",
    "        population = df\r\n",
    "        first = False\r\n",
    "    else:\r\n",
    "        population = pd.concat([population, df], axis=0)"
   ],
   "outputs": [
    {
     "output_type": "display_data",
     "data": {
      "application/vnd.jupyter.widget-view+json": {
       "version_major": 2,
       "version_minor": 0,
       "model_id": "9c27a76667d04bbcaf85cb0c2ef12fd0"
      },
      "text/plain": [
       "  0%|          | 0/33 [00:00<?, ?it/s]"
      ]
     },
     "metadata": {}
    }
   ],
   "metadata": {}
  },
  {
   "cell_type": "markdown",
   "source": [
    "**Output data to CSV file**"
   ],
   "metadata": {}
  },
  {
   "cell_type": "code",
   "execution_count": 42,
   "source": [
    "population.to_csv(\"./X_Output/lsoa_ethnicity_all.csv\", index=False)"
   ],
   "outputs": [],
   "metadata": {}
  },
  {
   "cell_type": "code",
   "execution_count": null,
   "source": [],
   "outputs": [],
   "metadata": {}
  }
 ],
 "metadata": {
  "interpreter": {
   "hash": "bec1da797f70239e7cfdf88cccc7d3f235eb824f3706317d51c20723117a6b25"
  },
  "kernelspec": {
   "name": "python3",
   "display_name": "Python 3.7.10 64-bit ('nomis2021': conda)"
  },
  "language_info": {
   "name": "python",
   "version": "3.9.7",
   "mimetype": "text/x-python",
   "codemirror_mode": {
    "name": "ipython",
    "version": 3
   },
   "pygments_lexer": "ipython3",
   "nbconvert_exporter": "python",
   "file_extension": ".py"
  },
  "orig_nbformat": 2
 },
 "nbformat": 4,
 "nbformat_minor": 2
}