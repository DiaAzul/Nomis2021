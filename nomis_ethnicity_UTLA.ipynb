{
 "cells": [
  {
   "cell_type": "markdown",
   "source": [
    "# Extract data from NOMIS\r\n",
    "\r\n",
    "This notebook extracts data from the NOMIS API. The notebook is targetted at the following table:\r\n",
    "\r\n",
    "+ NM_608_1 - Ethnicity by LSOA (Lower Super Output Area)\r\n",
    "\r\n",
    "The notebook downloads data by local super output area (listed in nomis_lsoa_codes.csv), for all ethnicity groups and total across rural and urban areas.\r\n",
    "\r\n",
    "**Note: The provided lsoa code file provided is for the ceremonial county of Dorset.**\r\n",
    "\r\n",
    "**This makes around 453 calls to the NOMIS API. Completing this for all of England will make 32,844 individual calls.**\r\n",
    "\r\n",
    "**For more complicated queries it may be appropriate to batch-up LSOA into fewer queries.** \r\n",
    "\r\n",
    "Data is exported to the folder \"X_Output\" which needs to be created."
   ],
   "metadata": {}
  },
  {
   "cell_type": "code",
   "execution_count": 17,
   "source": [
    "import pandas as pd\r\n",
    "from tqdm.notebook import tqdm\r\n",
    "from pyjstat import pyjstat\r\n",
    "from typing import List"
   ],
   "outputs": [],
   "metadata": {}
  },
  {
   "cell_type": "code",
   "execution_count": 18,
   "source": [
    "nomis_lsoa_codes = pd.read_csv(\"./A_Assumptions/nomis_lsoa_codes_dorset.csv\")"
   ],
   "outputs": [],
   "metadata": {}
  },
  {
   "cell_type": "code",
   "execution_count": 19,
   "source": [
    "def nomis_url(table_name: str, geography: str) -> str:\r\n",
    "    # tables:\r\n",
    "    # NM_608_1 - Ethnicity (LSOA)\r\n",
    "\r\n",
    "    url_base = f\"https://www.nomisweb.co.uk/api/v01/dataset/{table_name}.jsonstat.json?\"\r\n",
    "    url_geography_base=\"geography=\"\r\n",
    "    url_date_base=\"date=\"    \r\n",
    "\r\n",
    "    url_params = {}\r\n",
    "    url_params[\"NM_608_1\"] = \"&rural_urban=0&cell=0...18&measures=20100\"\r\n",
    "\r\n",
    "    dates = [\r\n",
    "        \"latest\",\r\n",
    "    ]\r\n",
    "    date_enc = \",\".join(dates)\r\n",
    "\r\n",
    "    url = (\r\n",
    "        url_base\r\n",
    "        + url_geography_base\r\n",
    "        + geography\r\n",
    "        + \"&\"\r\n",
    "        + url_date_base\r\n",
    "        + date_enc\r\n",
    "        + url_params[table_name]\r\n",
    "    )\r\n",
    "\r\n",
    "    return url\r\n"
   ],
   "outputs": [],
   "metadata": {}
  },
  {
   "cell_type": "code",
   "execution_count": 20,
   "source": [
    "def write_list(output_list: List, output_filename: str) -> None:\r\n",
    "    with open(f\"./X_Output/{output_filename}\", \"w\") as textfile:\r\n",
    "        for el in output_list:\r\n",
    "            textfile.write(el + \"\\n\")"
   ],
   "outputs": [],
   "metadata": {}
  },
  {
   "cell_type": "code",
   "execution_count": 21,
   "source": [
    "nomis_lsoa_codes.columns"
   ],
   "outputs": [
    {
     "output_type": "execute_result",
     "data": {
      "text/plain": [
       "Index(['UTLA20CD', 'UTLA20NM', 'LSOA11CD', 'LSOA11NM', 'NOMIS Code'], dtype='object')"
      ]
     },
     "metadata": {},
     "execution_count": 21
    }
   ],
   "metadata": {}
  },
  {
   "cell_type": "code",
   "execution_count": 22,
   "source": [
    "first = True\r\n",
    "population_urls = []\r\n",
    "population = pd.DataFrame()\r\n",
    "for _, geography in tqdm(nomis_lsoa_codes.iterrows(), total=len(nomis_lsoa_codes)):\r\n",
    "    url = nomis_url(\"NM_608_1\", str(geography[\"NOMIS Code\"]))\r\n",
    "    dataset = pyjstat.Dataset.read(url)\r\n",
    "\r\n",
    "    df: pd.DataFrame = dataset.write('dataframe')  # type: ignore\r\n",
    "    df['NOMIS Code'] = geography[\"NOMIS Code\"]\r\n",
    "    df['LSOA11NM'] = geography['LSOA11NM']\r\n",
    "    df['LSOA11CD'] = geography[\"LSOA11CD\"]\r\n",
    "    if first:\r\n",
    "        population = df\r\n",
    "        first = False\r\n",
    "    else:\r\n",
    "        population = pd.concat([population, df], axis=0)"
   ],
   "outputs": [
    {
     "output_type": "display_data",
     "data": {
      "application/vnd.jupyter.widget-view+json": {
       "version_major": 2,
       "version_minor": 0,
       "model_id": "42c20d4722bc40eea5e167bb3452ea4d"
      },
      "text/plain": [
       "  0%|          | 0/452 [00:00<?, ?it/s]"
      ]
     },
     "metadata": {}
    }
   ],
   "metadata": {}
  },
  {
   "cell_type": "code",
   "execution_count": 23,
   "source": [
    "population.to_csv(\"./X_Output/lsoa_ethnicity_dorset.csv\", index=False)"
   ],
   "outputs": [],
   "metadata": {}
  }
 ],
 "metadata": {
  "interpreter": {
   "hash": "bec1da797f70239e7cfdf88cccc7d3f235eb824f3706317d51c20723117a6b25"
  },
  "kernelspec": {
   "name": "python3",
   "display_name": "Python 3.7.10 64-bit ('nomis2021': conda)"
  },
  "language_info": {
   "name": "python",
   "version": "3.9.7",
   "mimetype": "text/x-python",
   "codemirror_mode": {
    "name": "ipython",
    "version": 3
   },
   "pygments_lexer": "ipython3",
   "nbconvert_exporter": "python",
   "file_extension": ".py"
  },
  "orig_nbformat": 2
 },
 "nbformat": 4,
 "nbformat_minor": 2
}