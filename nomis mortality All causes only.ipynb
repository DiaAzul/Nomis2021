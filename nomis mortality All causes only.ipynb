{
 "cells": [
  {
   "cell_type": "markdown",
   "metadata": {},
   "source": [
    "# Extract data from NOMIS\r\n",
    "\r\n",
    "This notebook extracts data from the NOMIS API. The purpose of this notebook is to test the API interface and demonstrate missing data when extracting data with multiple dates and other parameters such as cause_of_death, gender and age.\r\n",
    "\r\n",
    "When the notebook was created no data is returned for the first date."
   ]
  },
  {
   "cell_type": "code",
   "execution_count": 7,
   "metadata": {},
   "outputs": [],
   "source": [
    "import pandas as pd\n",
    "from tqdm.notebook import tqdm\n",
    "from pyjstat import pyjstat\n",
    "from typing import List"
   ]
  },
  {
   "cell_type": "code",
   "execution_count": 8,
   "metadata": {},
   "outputs": [],
   "source": [
    "nomis_la_codes = pd.read_csv(\"./A_Assumptions/nomis_la_codes.csv\")"
   ]
  },
  {
   "cell_type": "code",
   "execution_count": 9,
   "metadata": {},
   "outputs": [],
   "source": [
    "def nomis_url(table_name: str, geography: str) -> str:\n",
    "    # tables:\n",
    "    # NM_161_1 - Deaths\n",
    "    # NM_31_1 - Population\n",
    "\n",
    "    url_base = f\"https://www.nomisweb.co.uk/api/v01/dataset/{table_name}.jsonstat.json?\"\n",
    "    url_geography_base=\"geography=\"\n",
    "    url_date_base=\"date=\"    \n",
    "\n",
    "    url_params = {}\n",
    "    url_params[\"NM_161_1\"] = \"&cause_of_death=0&gender=0&age=0&measure=1&measures=20100\"\n",
    "    url_params[\"NM_31_1\"] = \"&sex=5...7&age=0...19&measures=20100\"\n",
    "\n",
    "    dates = [\n",
    "        \"latest\",\n",
    "        \"latestMINUS1\",\n",
    "        \"latestMINUS2\",\n",
    "        \"latestMINUS3\",\n",
    "        \"latestMINUS4\",\n",
    "        \"latestMINUS5\",\n",
    "        \"latestMINUS6\",\n",
    "    ]\n",
    "    date_enc = \",\".join(dates)\n",
    "\n",
    "    url = (\n",
    "        url_base\n",
    "        + url_geography_base\n",
    "        + geography\n",
    "        + \"&\"\n",
    "        + url_date_base\n",
    "        + date_enc\n",
    "        + url_params[table_name]\n",
    "    )\n",
    "\n",
    "    return url\n"
   ]
  },
  {
   "cell_type": "code",
   "execution_count": 10,
   "metadata": {},
   "outputs": [],
   "source": [
    "def write_list(output_list: List, output_filename: str) -> None:\n",
    "    with open(f\"./X_Output/{output_filename}\", \"w\") as textfile:\n",
    "        for el in output_list:\n",
    "            textfile.write(el + \"\\n\")"
   ]
  },
  {
   "cell_type": "code",
   "execution_count": 11,
   "metadata": {},
   "outputs": [
    {
     "data": {
      "application/vnd.jupyter.widget-view+json": {
       "model_id": "117bc61eec684d23969665000fcf9dd6",
       "version_major": 2,
       "version_minor": 0
      },
      "text/plain": [
       "0it [00:00, ?it/s]"
      ]
     },
     "metadata": {},
     "output_type": "display_data"
    }
   ],
   "source": [
    "first = True\r\n",
    "geography_urls = []\r\n",
    "for _, geography in tqdm(nomis_la_codes.iterrows()):\r\n",
    "    url = nomis_url(\"NM_161_1\", str(geography[\"GEOGRAPHY\"]))\r\n",
    "    geography_urls.append(url)\r\n",
    "    dataset = pyjstat.Dataset.read(url)\r\n",
    "    df = dataset.write('dataframe')\r\n",
    "    df['GEOGRAPHY'] = geography[\"GEOGRAPHY\"]\r\n",
    "    df['GEOGRAPHY_NAME'] = geography[\"GEOGRAPHY_NAME\"]\r\n",
    "    df['GEOGRAPHY_CODE'] = geography[\"GEOGRAPHY_CODE\"]\r\n",
    "    if first:\r\n",
    "        deaths = df\r\n",
    "        first = False\r\n",
    "        break  # NOTE: THIS WILL STOP THE LOOP\r\n",
    "    else:\r\n",
    "        deaths = pd.concat([deaths, df], axis=0)"
   ]
  },
  {
   "cell_type": "code",
   "execution_count": 12,
   "metadata": {},
   "outputs": [],
   "source": [
    "deaths.to_csv(\"./X_Output/la_deaths_all_causes_only_1.csv\")\n",
    "write_list(geography_urls, \"mortality_urls_all_causes_only_1.txt\")"
   ]
  },
  {
   "cell_type": "code",
   "execution_count": null,
   "metadata": {},
   "outputs": [],
   "source": []
  }
 ],
 "metadata": {
  "interpreter": {
   "hash": "bec1da797f70239e7cfdf88cccc7d3f235eb824f3706317d51c20723117a6b25"
  },
  "kernelspec": {
   "display_name": "Python 3.7.10 64-bit ('nomis2021': conda)",
   "name": "python3"
  },
  "language_info": {
   "codemirror_mode": {
    "name": "ipython",
    "version": 3
   },
   "file_extension": ".py",
   "mimetype": "text/x-python",
   "name": "python",
   "nbconvert_exporter": "python",
   "pygments_lexer": "ipython3",
   "version": "3.7.10"
  },
  "orig_nbformat": 2
 },
 "nbformat": 4,
 "nbformat_minor": 2
}