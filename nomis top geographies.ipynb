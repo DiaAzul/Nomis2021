{
 "cells": [
  {
   "cell_type": "markdown",
   "source": [
    "# Extract data from NOMIS (Top level geographies)\r\n",
    "\r\n",
    "The NOMIS API doesn't always comply with JSON-Stat structure, so geographies (and other metadata) needs to be pulled using the REST API and then processed to extract the required data."
   ],
   "metadata": {}
  },
  {
   "cell_type": "code",
   "execution_count": 21,
   "source": [
    "import pandas as pd\r\n",
    "import requests\r\n",
    "from pyjstat import pyjstat\r\n",
    "from typing import List, Dict\r\n"
   ],
   "outputs": [],
   "metadata": {}
  },
  {
   "cell_type": "markdown",
   "source": [
    "**Fetch JSON list of geographies from the NOMIS API 1.1**\r\n",
    "\r\n",
    "Full details for the NOMIS API are available at : <https://www.nomisweb.co.uk/api/v01/help>"
   ],
   "metadata": {}
  },
  {
   "cell_type": "code",
   "execution_count": 22,
   "source": [
    "# Top level geographies\r\n",
    "# url = \"https://www.nomisweb.co.uk/api/v01/dataset/NM_1_1/geography.def.sdmx.json\"\r\n",
    "\r\n",
    "# What areas are in England (2092957699)\r\n",
    "# url = \"https://www.nomisweb.co.uk/api/v01/dataset/NM_1_1/geography/2092957699.def.sdmx.json\"\r\n",
    "\r\n",
    "# Fetch a list of Lower Super Output Areas (Type 298) for England 2092957699\r\n",
    "url = \"https://www.nomisweb.co.uk/api/v01/dataset/NM_1_1/geography/2092957699TYPE298.def.sdmx.json\"\r\n",
    "\r\n",
    "response = requests.get(url)\r\n",
    "data = response.json()"
   ],
   "outputs": [],
   "metadata": {}
  },
  {
   "cell_type": "code",
   "execution_count": 23,
   "source": [
    "def list_keys(d: Dict)-> List:\r\n",
    "    \"\"\"Function to return list of the top level keys in a dictionary\r\n",
    "\r\n",
    "    Args:\r\n",
    "        d (Dict): Dictionary for the top level keys\r\n",
    "\r\n",
    "    Returns:\r\n",
    "        List: Top level keys from provided dictionary\r\n",
    "    \"\"\"    \r\n",
    "    key_list = []\r\n",
    "    if isinstance(d, Dict):\r\n",
    "        for key in d:\r\n",
    "            key_list.append(key)\r\n",
    "    return key_list"
   ],
   "outputs": [],
   "metadata": {}
  },
  {
   "cell_type": "markdown",
   "source": [
    "**Determine the structure of the returned JSON file to identify keys for the metadata and the actual data.**"
   ],
   "metadata": {}
  },
  {
   "cell_type": "code",
   "execution_count": 24,
   "source": [
    "structure = data['structure']\r\n",
    "print(list_keys(structure))"
   ],
   "outputs": [
    {
     "output_type": "stream",
     "name": "stdout",
     "text": [
      "['codelists', 'header', 'xmlns', 'common', 'structure', 'xsi', 'schemalocation']\n"
     ]
    }
   ],
   "metadata": {}
  },
  {
   "cell_type": "code",
   "execution_count": 25,
   "source": [
    "codelists = structure['codelists']\r\n",
    "print(list_keys(codelists))"
   ],
   "outputs": [
    {
     "output_type": "stream",
     "name": "stdout",
     "text": [
      "['codelist']\n"
     ]
    }
   ],
   "metadata": {}
  },
  {
   "cell_type": "markdown",
   "source": [
    "**The codes are listed in structure\\codelists\\codelist[0]\\code**"
   ],
   "metadata": {}
  },
  {
   "cell_type": "code",
   "execution_count": 26,
   "source": [
    "codelist = codelists['codelist']\r\n",
    "codes = codelist[0]['code']"
   ],
   "outputs": [],
   "metadata": {}
  },
  {
   "cell_type": "markdown",
   "source": [
    "**Iterate over list to extract annotations for each record**\r\n",
    "\r\n",
    "*Annotations are in a annotations\\annotation sublist with annotationtitle as key and annotationtext as value*\r\n",
    "\r\n",
    "*Record value is in the key value*\r\n",
    "\r\n",
    "Final result stored in a dataFrame"
   ],
   "metadata": {}
  },
  {
   "cell_type": "code",
   "execution_count": 27,
   "source": [
    "records = []\r\n",
    "\r\n",
    "for el in codes:\r\n",
    "    record = {}\r\n",
    "\r\n",
    "    annotations = el['annotations']['annotation']\r\n",
    "    for annotation in annotations:\r\n",
    "        record[annotation['annotationtitle']] = annotation['annotationtext']\r\n",
    "\r\n",
    "    record['value'] = el['value']\r\n",
    "\r\n",
    "    records.append(record)\r\n",
    "\r\n",
    "codes_df = pd.DataFrame(records)"
   ],
   "outputs": [],
   "metadata": {}
  },
  {
   "cell_type": "markdown",
   "source": [
    "**Export the list of lsoa codes to csv file**"
   ],
   "metadata": {}
  },
  {
   "cell_type": "code",
   "execution_count": 30,
   "source": [
    "codes_df.to_csv('./A_Assumptions/nomis_lsoa_codes_raw.csv', index = False)"
   ],
   "outputs": [],
   "metadata": {}
  },
  {
   "cell_type": "code",
   "execution_count": null,
   "source": [],
   "outputs": [],
   "metadata": {}
  }
 ],
 "metadata": {
  "interpreter": {
   "hash": "bec1da797f70239e7cfdf88cccc7d3f235eb824f3706317d51c20723117a6b25"
  },
  "kernelspec": {
   "name": "python3",
   "display_name": "Python 3.7.10 64-bit ('nomis2021': conda)"
  },
  "language_info": {
   "name": "python",
   "version": "3.9.7",
   "mimetype": "text/x-python",
   "codemirror_mode": {
    "name": "ipython",
    "version": 3
   },
   "pygments_lexer": "ipython3",
   "nbconvert_exporter": "python",
   "file_extension": ".py"
  },
  "orig_nbformat": 2
 },
 "nbformat": 4,
 "nbformat_minor": 2
}