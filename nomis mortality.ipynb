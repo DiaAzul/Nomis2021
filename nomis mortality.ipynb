{
 "cells": [
  {
   "cell_type": "code",
   "execution_count": 7,
   "metadata": {},
   "outputs": [],
   "source": [
    "import pandas as pd\n",
    "from tqdm.notebook import tqdm\n",
    "from pyjstat import pyjstat\n",
    "from typing import List"
   ]
  },
  {
   "cell_type": "code",
   "execution_count": 8,
   "metadata": {},
   "outputs": [],
   "source": [
    "nomis_la_codes = pd.read_csv(\"./A_Assumptions/nomis_la_codes.csv\")"
   ]
  },
  {
   "cell_type": "code",
   "execution_count": 9,
   "metadata": {},
   "outputs": [],
   "source": [
    "def nomis_url(table_name: str, geography: str) -> str:\n",
    "    # tables:\n",
    "    # NM_161_1 - Deaths\n",
    "    # NM_31_1 - Population\n",
    "\n",
    "    url_base = f\"https://www.nomisweb.co.uk/api/v01/dataset/{table_name}.jsonstat.json?\"\n",
    "    url_geography_base=\"geography=\"\n",
    "    url_date_base=\"date=\"    \n",
    "\n",
    "    url_params = {}\n",
    "    url_params[\"NM_161_1\"] = \"&cause_of_death=0,98,99,1...18,20&gender=0...2&age=0...20&measure=1&measures=20100\"\n",
    "    url_params[\"NM_31_1\"] = \"&sex=5...7&age=0...19&measures=20100\"\n",
    "\n",
    "    dates = [\n",
    "        \"latest\",\n",
    "        \"latestMINUS1\",\n",
    "        \"latestMINUS2\",\n",
    "        \"latestMINUS3\",\n",
    "        \"latestMINUS4\",\n",
    "        \"latestMINUS5\",\n",
    "        \"latestMINUS6\",\n",
    "    ]\n",
    "    date_enc = \",\".join(dates)\n",
    "\n",
    "    url = (\n",
    "        url_base\n",
    "        + url_geography_base\n",
    "        + geography\n",
    "        + \"&\"\n",
    "        + url_date_base\n",
    "        + date_enc\n",
    "        + url_params[table_name]\n",
    "    )\n",
    "\n",
    "    return url\n"
   ]
  },
  {
   "cell_type": "code",
   "execution_count": 10,
   "metadata": {},
   "outputs": [],
   "source": [
    "def write_list(output_list: List, output_filename: str) -> None:\n",
    "    with open(f\"./X_Output/{output_filename}\", \"w\") as textfile:\n",
    "        for el in output_list:\n",
    "            textfile.write(el + \"\\n\")"
   ]
  },
  {
   "cell_type": "code",
   "execution_count": 11,
   "metadata": {},
   "outputs": [
    {
     "output_type": "display_data",
     "data": {
      "text/plain": "0it [00:00, ?it/s]",
      "application/vnd.jupyter.widget-view+json": {
       "version_major": 2,
       "version_minor": 0,
       "model_id": "dd94fa669d7a4051bde6cfb9aa88299d"
      }
     },
     "metadata": {}
    }
   ],
   "source": [
    "first = True\n",
    "population_urls = []\n",
    "for _, geography in tqdm(nomis_la_codes.iterrows()):\n",
    "    url = nomis_url(\"NM_31_1\", str(geography[\"GEOGRAPHY\"]))\n",
    "    population_urls.append(url)\n",
    "    dataset = pyjstat.Dataset.read(url)\n",
    "\n",
    "    df = dataset.write('dataframe')\n",
    "    df['GEOGRAPHY'] = geography[\"GEOGRAPHY\"]\n",
    "    df['GEOGRAPHY_NAME'] = geography[\"GEOGRAPHY_NAME\"]\n",
    "    df['GEOGRAPHY_CODE'] = geography[\"GEOGRAPHY_CODE\"]\n",
    "    if first:\n",
    "        population = df\n",
    "        first = False\n",
    "    else:\n",
    "        population = pd.concat([population, df], axis=0)"
   ]
  },
  {
   "cell_type": "code",
   "execution_count": 12,
   "metadata": {},
   "outputs": [],
   "source": [
    "population.to_csv(\"./X_Output/la_population.csv\")\n",
    "write_list(population_urls, \"population_urls.txt\")"
   ]
  },
  {
   "cell_type": "code",
   "execution_count": 14,
   "metadata": {},
   "outputs": [
    {
     "output_type": "display_data",
     "data": {
      "text/plain": "0it [00:00, ?it/s]",
      "application/vnd.jupyter.widget-view+json": {
       "version_major": 2,
       "version_minor": 0,
       "model_id": "f0c9de715f5240b985fa01ccc0258aaa"
      }
     },
     "metadata": {}
    }
   ],
   "source": [
    "first = True\n",
    "geography_urls = []\n",
    "for _, geography in tqdm(nomis_la_codes.iterrows()):\n",
    "    url = nomis_url(\"NM_161_1\", str(geography[\"GEOGRAPHY\"]))\n",
    "    geography_urls.append(url)\n",
    "    dataset = pyjstat.Dataset.read(url)\n",
    "    df = dataset.write('dataframe')\n",
    "    df['GEOGRAPHY'] = geography[\"GEOGRAPHY\"]\n",
    "    df['GEOGRAPHY_NAME'] = geography[\"GEOGRAPHY_NAME\"]\n",
    "    df['GEOGRAPHY_CODE'] = geography[\"GEOGRAPHY_CODE\"]\n",
    "    if first:\n",
    "        deaths = df\n",
    "        first = False\n",
    "    else:\n",
    "        deaths = pd.concat([deaths, df], axis=0)"
   ]
  },
  {
   "cell_type": "code",
   "execution_count": 15,
   "metadata": {},
   "outputs": [],
   "source": [
    "deaths.to_csv(\"./X_Output/la_deaths.csv\")\n",
    "write_list(geography_urls, \"geography_urls.txt\")"
   ]
  },
  {
   "cell_type": "code",
   "execution_count": null,
   "metadata": {},
   "outputs": [],
   "source": []
  }
 ],
 "metadata": {
  "interpreter": {
   "hash": "bec1da797f70239e7cfdf88cccc7d3f235eb824f3706317d51c20723117a6b25"
  },
  "kernelspec": {
   "name": "python3",
   "display_name": "Python 3.7.10 64-bit ('nomis2021': conda)"
  },
  "language_info": {
   "codemirror_mode": {
    "name": "ipython",
    "version": 3
   },
   "file_extension": ".py",
   "mimetype": "text/x-python",
   "name": "python",
   "nbconvert_exporter": "python",
   "pygments_lexer": "ipython3",
   "version": "3.7.10"
  },
  "orig_nbformat": 2
 },
 "nbformat": 4,
 "nbformat_minor": 2
}